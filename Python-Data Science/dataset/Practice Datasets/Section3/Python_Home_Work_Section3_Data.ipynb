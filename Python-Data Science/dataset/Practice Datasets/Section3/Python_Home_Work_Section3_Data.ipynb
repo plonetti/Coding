{
 "cells": [
  {
   "cell_type": "code",
   "execution_count": 7,
   "metadata": {
    "collapsed": true
   },
   "outputs": [
    {
     "data": {
      "text/plain": [
       "[2522.67,\n",
       " 1911.3900000000003,\n",
       " -3707.790000000001,\n",
       " -2914.3099999999995,\n",
       " -599.9200000000001,\n",
       " 7265.24,\n",
       " 8210.550000000001,\n",
       " 3944.9700000000003,\n",
       " 3328.3899999999994,\n",
       " -2238.6500000000015,\n",
       " 659.5999999999985,\n",
       " 11629.54]"
      ]
     },
     "execution_count": 7,
     "metadata": {},
     "output_type": "execute_result"
    }
   ],
   "source": [
    "#Data \n",
    "import numpy as np\n",
    "revenue = [14574.49, 7606.46, 8611.41, 9175.41, 8058.65, 8105.44, 11496.28, 9766.09, 10305.32, 14379.96, 10713.97, 15433.50]\n",
    "expenses = [12051.82, 5695.07, 12319.20, 12089.72, 8658.57, 840.20, 3285.73, 5821.12, 6976.93, 16618.61, 10054.37, 3803.96]\n",
    "\n",
    "profit1=[]\n",
    "for i in range (0, len(revenue)):\n",
    "    profit1.append(revenue[i]-expenses[i])\n",
    "\n",
    "tax=[round(i*0.3,2) for i in profit1]\n",
    "profit_tax=[]\n",
    "for i in range (0, len(revenue)):\n",
    "    profit_tax.append(profit1[i]-tax[i])\n",
    "#profit_tax\n",
    "\n",
    "r1=np.array(revenue)\n",
    "r2=np.array(expenses)\n",
    "profit=r1-r2\n",
    "profit1"
   ]
  }
 ],
 "metadata": {
  "interpreter": {
   "hash": "4e148f84d6e5fd06585d9f1cffc2bf50ae7ee444f1265d51d0fd61bd41ddb594"
  },
  "kernelspec": {
   "display_name": "Python [conda root]",
   "language": "python",
   "name": "python3"
  },
  "language_info": {
   "codemirror_mode": {
    "name": "ipython",
    "version": 3
   },
   "file_extension": ".py",
   "mimetype": "text/x-python",
   "name": "python",
   "nbconvert_exporter": "python",
   "pygments_lexer": "ipython3",
   "version": "3.10.2"
  }
 },
 "nbformat": 4,
 "nbformat_minor": 1
}
